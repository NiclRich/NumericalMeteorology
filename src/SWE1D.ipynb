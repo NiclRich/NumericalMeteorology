{
 "cells": [
  {
   "cell_type": "markdown",
   "id": "0f104202-6843-4cc6-98b6-a20f740e382d",
   "metadata": {},
   "source": [
    "# Shallow water equation in 1D"
   ]
  },
  {
   "cell_type": "code",
   "execution_count": 1,
   "id": "649475e3-5966-46d1-81f5-770296b10d43",
   "metadata": {},
   "outputs": [],
   "source": [
    "# constants\n",
    "G = 9.81\n",
    "H = 4e3\n",
    "using SparseArrays"
   ]
  },
  {
   "cell_type": "code",
   "execution_count": 2,
   "id": "df10c6ae-96f9-463e-8fb1-74e821710789",
   "metadata": {},
   "outputs": [
    {
     "data": {
      "text/plain": [
       "leap_frog_swe (generic function with 4 methods)"
      ]
     },
     "execution_count": 2,
     "metadata": {},
     "output_type": "execute_result"
    }
   ],
   "source": [
    "function leap_frog_swe(dx::T, dt::T, time_steps::Integer, grid_points::Integer, h0::Function, gamma::T, bc::Symbol = :periodic, g::T=9.81, H::T=4e3) where{T<:AbstractFloat} # better name: leapfrog_ra_advection\n",
    "    u = zeros(T, grid_points, time_steps) # storage for numerical approximation\n",
    "    h = zeros(T, grid_points, time_steps)\n",
    "\n",
    "    # compute initial conditions for h\n",
    "    cell_boundaries = collect(0:grid_points) .* dx\n",
    "    cell_centers = cell_boundaries[1:end-1] + 0.5 * diff(cell_boundaries)\n",
    "    h[:, 1] = h0.(cell_centers)\n",
    "  \n",
    "    \n",
    "    \n",
    "    # euler step\n",
    "    upper_diagonal = - ones(grid_points-1)\n",
    "    lower_diagonal = ones(grid_points-1)\n",
    "    \n",
    "    I = [collect(2:grid_points); collect(1:grid_points-1)]  # row indices\n",
    "    J = [collect(1:grid_points-1); collect(2:grid_points)]  # col indicest\n",
    "    entries = [lower_diagonal; upper_diagonal]\n",
    "    \n",
    "    if bc == :periodic # insert periodic boundary conditions\n",
    "        I = [I; grid_points; 1]\n",
    "        J = [J; 1; grid_points]\n",
    "        entries = [entries; 1.0; -1.0]\n",
    "    end\n",
    "    difference_operator = sparse(I, J, entries)\n",
    "\n",
    "    # perform euler step\n",
    "    u[:, 2] = (- 0.5 * g * dt / dx) * difference_operator * h[:, 1] + u[:, 1]\n",
    "    h[:, 2] = (- 0.5 * H * dt / dx) * difference_operator * u[:, 1] + h[:, 1]\n",
    "\n",
    "    # leap frog\n",
    "    for k in 2:time_steps-1\n",
    "        u[:, k+1] = (- g * dt / dx) * difference_operator * h[:, k] + u[:, k-1]\n",
    "        h[:, k+1] = (- H * dt / dx) * difference_operator * u[:, k] + h[:, k-1]\n",
    "\n",
    "        # apply the RA filter\n",
    "        u[:, k] = u[:, k] + gamma * (u[:, k-1] - 2 * u[:, k] + u[:, k+1])\n",
    "        h[:, k] = h[:, k] + gamma * (h[:, k-1] - 2 * h[:, k] + h[:, k+1])\n",
    "    end\n",
    "    return u, h\n",
    "end"
   ]
  },
  {
   "cell_type": "code",
   "execution_count": 3,
   "id": "279cb199-ec8a-457a-b46b-a44d45fdbb2f",
   "metadata": {},
   "outputs": [
    {
     "name": "stderr",
     "output_type": "stream",
     "text": [
      "\u001b[36m\u001b[1m[ \u001b[22m\u001b[39m\u001b[36m\u001b[1mInfo: \u001b[22m\u001b[39m[0, 0, 0, 0, 1, 1, 0, 0, 0, 0, 0, 0, 0, 0, 0, 0, 0, 0, 0, 0, 0, 0, 0, 0, 0, 0, 0, 0, 0, 0, 0, 0, 0, 0, 0, 0, 0, 0, 0, 0, 0, 0, 0, 0, 0, 0, 0, 0, 0, 0, 0, 0, 0, 0, 0, 0, 0, 0, 0, 0, 0, 0, 0, 0, 0, 0, 0, 0, 0, 0, 0, 0, 0, 0, 0, 0, 0, 0, 0, 0, 0, 0, 0, 0, 0, 0, 0, 0, 0, 0, 0, 0, 0, 0, 0, 0, 0, 0, 0, 0]\n",
      "\u001b[36m\u001b[1m[ \u001b[22m\u001b[39m\u001b[36m\u001b[1mInfo: \u001b[22m\u001b[39m[50000.0, 150000.0, 250000.0, 350000.0, 450000.0, 550000.0, 650000.0, 750000.0, 850000.0, 950000.0, 1.05e6, 1.15e6, 1.25e6, 1.35e6, 1.45e6, 1.55e6, 1.65e6, 1.75e6, 1.85e6, 1.95e6, 2.05e6, 2.15e6, 2.25e6, 2.35e6, 2.45e6, 2.55e6, 2.65e6, 2.75e6, 2.85e6, 2.95e6, 3.05e6, 3.15e6, 3.25e6, 3.35e6, 3.45e6, 3.55e6, 3.65e6, 3.75e6, 3.85e6, 3.95e6, 4.05e6, 4.15e6, 4.25e6, 4.35e6, 4.45e6, 4.55e6, 4.65e6, 4.75e6, 4.85e6, 4.95e6, 5.05e6, 5.15e6, 5.25e6, 5.35e6, 5.45e6, 5.55e6, 5.65e6, 5.75e6, 5.85e6, 5.95e6, 6.05e6, 6.15e6, 6.25e6, 6.35e6, 6.45e6, 6.55e6, 6.65e6, 6.75e6, 6.85e6, 6.95e6, 7.05e6, 7.15e6, 7.25e6, 7.35e6, 7.45e6, 7.55e6, 7.65e6, 7.75e6, 7.85e6, 7.95e6, 8.05e6, 8.15e6, 8.25e6, 8.35e6, 8.45e6, 8.55e6, 8.65e6, 8.75e6, 8.85e6, 8.95e6, 9.05e6, 9.15e6, 9.25e6, 9.35e6, 9.45e6, 9.55e6, 9.65e6, 9.75e6, 9.85e6, 9.95e6]\n"
     ]
    },
    {
     "data": {
      "text/plain": [
       "([0.0 0.0 … -0.007966122363259345 -0.007975581763897684; 0.0 0.0 … 0.007211280024655919 0.007272087607646664; … ; 0.0 0.0 … -0.007401896203285408 -0.00733500664036637; 0.0 0.0 … 0.007966122363259345 0.007975581763897684], [0.0 0.0 … -0.044881094274556305 -0.04183900707202571; 0.0 0.0 … -0.044881094274556305 -0.04183900707202571; … ; 0.0 0.0 … 0.02288069697530437 0.025949540453702714; 0.0 0.0 … 0.02288069697530437 0.025949540453702714])"
      ]
     },
     "execution_count": 3,
     "metadata": {},
     "output_type": "execute_result"
    }
   ],
   "source": [
    "h0(x)= (450.0 <= x / 1000.0 <= 550.0) ? 1 : 0\n",
    "grid_points = 100\n",
    "time_steps = 1200\n",
    "dx = 1e5\n",
    "dt = 10.0\n",
    "cell_boundaries = dx * collect(0:grid_points)\n",
    "cell_centers = cell_boundaries[1:end-1] + 0.5 * diff(cell_boundaries)\n",
    "@info h0.(cell_centers)\n",
    "@info cell_centers\n",
    "u, h = leap_frog_swe(dx, dt, time_steps, grid_points, h0, 0.1)"
   ]
  },
  {
   "cell_type": "code",
   "execution_count": 10,
   "id": "9ef87704-115b-4229-9504-188f2ff99826",
   "metadata": {},
   "outputs": [],
   "source": [
    "using Plots\n",
    "using Dates"
   ]
  },
  {
   "cell_type": "code",
   "execution_count": 11,
   "id": "d52b232b-68f3-4518-a8d7-8853810f7fc2",
   "metadata": {},
   "outputs": [
    {
     "data": {
      "text/plain": [
       "create_plots_1dswe (generic function with 1 method)"
      ]
     },
     "execution_count": 11,
     "metadata": {},
     "output_type": "execute_result"
    }
   ],
   "source": [
    "function create_gif_1dswe(cell_centers::Vector{T}, y::Matrix{T};  filename::String, img_path::String, time_steps::Integer, m::Integer, fps::Integer) where {T<:AbstractFloat}\n",
    "\n",
    "anim = @animate for k in 1:m:time_steps\n",
    "        # background: heatmap of h at time t\n",
    "        # note: transpose h[:,:,t] so axes align intuitively (x horizontal, y vertical)\n",
    "        plt = plot(cell_centers, y[:, k],\n",
    "                    ylim = (minimum(y), maximum(y)),\n",
    "            aspect_ratio = :auto,\n",
    "            xlabel = \"x\",\n",
    "            ylabel = \"h(x,t)\",\n",
    "            title = \"Numerical Solution of the SWE in d=1 at t = $(k)\")\n",
    "\n",
    "        plt\n",
    "    end\n",
    "\n",
    "    gif(anim, filename; fps = fps)\n",
    "    @info \"$(now()) - Saved animation of 1D Shallow Water Equation to $(filename)\"\n",
    "end\n",
    "\n",
    "function create_plots_1dswe(cell_centers::Vector{T}, y::Matrix{T}, indices::Vector{<:Integer}; filename::String, img_path::String, quantity::String, ylabel::String) where {T<:AbstractFloat}\n",
    "    plots = []\n",
    "    ymin = minimum(y)\n",
    "    ymax = maximum(y)\n",
    "    for idx in indices\n",
    "        save_path = \"$(img_path)/$(filename)_$(idx).png\"\n",
    "        title = \"$(quantity) at time step $(idx)\"\n",
    "        plt = plot(cell_centers, y[:, idx], ylim=(ymin, ymax), title=title)\n",
    "        savefig(plt, save_path)\n",
    "    end\n",
    "end"
   ]
  },
  {
   "cell_type": "markdown",
   "id": "b5e30f7b-5b66-4793-b2b8-86c412c60cab",
   "metadata": {},
   "source": [
    "## with staggered grids"
   ]
  },
  {
   "cell_type": "code",
   "execution_count": 5,
   "id": "86c78544-bf29-4e74-9534-78d5ac0a3137",
   "metadata": {},
   "outputs": [
    {
     "data": {
      "text/plain": [
       "leap_frog_swe_staggered (generic function with 4 methods)"
      ]
     },
     "execution_count": 5,
     "metadata": {},
     "output_type": "execute_result"
    }
   ],
   "source": [
    "function leap_frog_swe_staggered(dx::T, dt::T, time_steps::Integer, grid_points::Integer, h0::Function, gamma::T, bc::Symbol = :periodic, g::T=9.81, H::T=4e3) where{T<:AbstractFloat} # better name: leapfrog_ra_advection\n",
    "    u = zeros(T, grid_points, time_steps) # storage for numerical approximation\n",
    "    h = zeros(T, grid_points, time_steps)\n",
    "\n",
    "    # compute initial conditions for h\n",
    "    cell_boundaries = collect(0:grid_points) .* dx # location of u\n",
    "    cell_centers = cell_boundaries[1:end-1] + 0.5 * diff(cell_boundaries) # location of h\n",
    "    h[:, 1] = h0.(cell_centers)\n",
    "  \n",
    "    difference_operator_u = spdiagm( 0 => ones(grid_points), 1 => - ones(grid_points-1))\n",
    "\n",
    "    # apply boundary conditions\n",
    "    if bc == :periodic\n",
    "        difference_operator_u[grid_points, 1] = -1\n",
    "    end\n",
    "    \n",
    "    difference_operator_h = - transpose(difference_operator_u)\n",
    "    \n",
    "    # perform euler step\n",
    "    u[:, 2] = (- g * dt / dx) * difference_operator_h * h[:, 1] + u[:, 1]\n",
    "    h[:, 2] = (- H * dt / dx) * difference_operator_u * u[:, 1] + h[:, 1]\n",
    "\n",
    "    # leap frog\n",
    "    for k in 2:time_steps-1\n",
    "        u[:, k+1] = (- 2 * g * dt / dx) * difference_operator_h * h[:, k] + u[:, k-1]\n",
    "        h[:, k+1] = (- 2 * H * dt / dx) * difference_operator_u * u[:, k] + h[:, k-1]\n",
    "\n",
    "        # apply the RA filter\n",
    "        u[:, k] = u[:, k] + gamma * (u[:, k-1] - 2 * u[:, k] + u[:, k+1])\n",
    "        h[:, k] = h[:, k] + gamma * (h[:, k-1] - 2 * h[:, k] + h[:, k+1])\n",
    "    end\n",
    "    return u, h\n",
    "end"
   ]
  },
  {
   "cell_type": "code",
   "execution_count": 6,
   "id": "55ab982f-7939-4b81-9c8f-1ec2cccb6c3c",
   "metadata": {},
   "outputs": [
    {
     "name": "stderr",
     "output_type": "stream",
     "text": [
      "\u001b[36m\u001b[1m[ \u001b[22m\u001b[39m\u001b[36m\u001b[1mInfo: \u001b[22m\u001b[39m[0, 0, 0, 0, 1, 1, 0, 0, 0, 0, 0, 0, 0, 0, 0, 0, 0, 0, 0, 0, 0, 0, 0, 0, 0, 0, 0, 0, 0, 0, 0, 0, 0, 0, 0, 0, 0, 0, 0, 0, 0, 0, 0, 0, 0, 0, 0, 0, 0, 0, 0, 0, 0, 0, 0, 0, 0, 0, 0, 0, 0, 0, 0, 0, 0, 0, 0, 0, 0, 0, 0, 0, 0, 0, 0, 0, 0, 0, 0, 0, 0, 0, 0, 0, 0, 0, 0, 0, 0, 0, 0, 0, 0, 0, 0, 0, 0, 0, 0, 0]\n",
      "\u001b[36m\u001b[1m[ \u001b[22m\u001b[39m\u001b[36m\u001b[1mInfo: \u001b[22m\u001b[39m[50000.0, 150000.0, 250000.0, 350000.0, 450000.0, 550000.0, 650000.0, 750000.0, 850000.0, 950000.0, 1.05e6, 1.15e6, 1.25e6, 1.35e6, 1.45e6, 1.55e6, 1.65e6, 1.75e6, 1.85e6, 1.95e6, 2.05e6, 2.15e6, 2.25e6, 2.35e6, 2.45e6, 2.55e6, 2.65e6, 2.75e6, 2.85e6, 2.95e6, 3.05e6, 3.15e6, 3.25e6, 3.35e6, 3.45e6, 3.55e6, 3.65e6, 3.75e6, 3.85e6, 3.95e6, 4.05e6, 4.15e6, 4.25e6, 4.35e6, 4.45e6, 4.55e6, 4.65e6, 4.75e6, 4.85e6, 4.95e6, 5.05e6, 5.15e6, 5.25e6, 5.35e6, 5.45e6, 5.55e6, 5.65e6, 5.75e6, 5.85e6, 5.95e6, 6.05e6, 6.15e6, 6.25e6, 6.35e6, 6.45e6, 6.55e6, 6.65e6, 6.75e6, 6.85e6, 6.95e6, 7.05e6, 7.15e6, 7.25e6, 7.35e6, 7.45e6, 7.55e6, 7.65e6, 7.75e6, 7.85e6, 7.95e6, 8.05e6, 8.15e6, 8.25e6, 8.35e6, 8.45e6, 8.55e6, 8.65e6, 8.75e6, 8.85e6, 8.95e6, 9.05e6, 9.15e6, 9.25e6, 9.35e6, 9.45e6, 9.55e6, 9.65e6, 9.75e6, 9.85e6, 9.95e6]\n"
     ]
    },
    {
     "data": {
      "text/plain": [
       "([0.0 0.0 … 0.0018026001764237568 0.0017496313222034056; 0.0 0.0 … -0.0017089121730788064 -0.0016895774865082816; … ; 0.0 0.0 … -0.00021203412995985684 -0.0003302624626167104; 0.0 0.0 … -0.0012494063068985227 -0.0011565527740902367], [0.0 0.0 … -0.016157828701474742 -0.017550207903883005; 0.0 0.0 … 0.0023858159681754295 0.0035905304668400013; … ; 0.0 0.0 … -0.05724889733379208 -0.0576264272003774; 0.0 0.0 … 0.036659867080717626 0.037855249809244006])"
      ]
     },
     "execution_count": 6,
     "metadata": {},
     "output_type": "execute_result"
    }
   ],
   "source": [
    "h0(x)= (450.0 <= x / 1000.0 <= 550.0) ? 1 : 0\n",
    "grid_points = 100\n",
    "time_steps = 1200\n",
    "dx = 1e5\n",
    "dt = 10.0\n",
    "cell_boundaries = dx * collect(0:grid_points)\n",
    "cell_centers = cell_boundaries[1:end-1] + 0.5 * diff(cell_boundaries)\n",
    "@info h0.(cell_centers)\n",
    "@info cell_centers\n",
    "u, h = leap_frog_swe_staggered(dx, dt, time_steps, grid_points, h0, 0.1)"
   ]
  },
  {
   "cell_type": "code",
   "execution_count": 8,
   "id": "49f16a70-6aab-422b-b66f-92ac8ff53388",
   "metadata": {},
   "outputs": [
    {
     "data": {
      "text/plain": [
       "simulate_swe1d (generic function with 1 method)"
      ]
     },
     "execution_count": 8,
     "metadata": {},
     "output_type": "execute_result"
    }
   ],
   "source": [
    "import TOML\n",
    "using Dates\n",
    "\n",
    "include(\"shallowwater.jl\")\n",
    "\n",
    "function simulate_swe1d(;config_path::String, img_path::String)\n",
    "    # declare constants\n",
    "    h0(x)= (450.0 <= x / 1000.0 <= 550.0) ? 1 : 0   # initial function for the height\n",
    "    STANDARD_GRAVITY = 9.81                         # standard gravity (m/s^2)\n",
    "    FLUID_DEPTH = 4e3                               # mean fluid depth (m)\n",
    "    \n",
    "    filename_gif_swe1d = \"swe_1d.gif\"\n",
    "    filename_gif_swe2d = \"swe_2d.gif\"\n",
    "    filename_staggered = \"swe1d_staggered_grid\"\n",
    "    filename_unstaggered = \"swe1d_unstaggered_grid\"\n",
    "    sampling_freq = 20\n",
    "    fps = 15\n",
    "\n",
    "    # load config\n",
    "    config = TOML.parsefile(config_path)\n",
    "    config_swe1d = config[\"swe1d\"]\n",
    "    \n",
    "    dt = config_swe1d[\"dt\"]\n",
    "    dx = config_swe1d[\"dx\"]\n",
    "    gamma = config_swe1d[\"gamma\"]\n",
    "    grid_points = config_swe1d[\"grid_points\"]\n",
    "    time_steps = config_swe1d[\"time_steps\"]\n",
    "    indices = config_swe1d[\"indices_plotting\"]\n",
    "    \n",
    "    # force consistency for indices for plotting\n",
    "    indices = [i for i in indices if i <= time_steps && i >= 1]\n",
    "    \n",
    "    cell_boundaries = dx * collect(0:grid_points)\n",
    "    cell_centers = cell_boundaries[1:end-1] + 0.5 * diff(cell_boundaries)\n",
    "    \n",
    "    @info \"$(now()) - Start computation of SWE in 1D\"\n",
    "    # index a for the A grid (unstaggered) and c for the C grid (staggered)\n",
    "    u_a, h_a = leap_frog_swe(dx, dt, time_steps, grid_points, h0, GAMMA,:periodic, STANDARD_GRAVITY, FLUID_DEPTH)\n",
    "    @info \"$(now()) - Computation of SWE in 1D with unstaggered grid done\"\n",
    "    u_c, h_c = leap_frog_swe_staggered(dx, dt, time_steps, grid_points, h0, GAMMA, :periodic, STANDARD_GRAVITY, FLUID_DEPTH)\n",
    "    @info \"$(now()) - Computation of SWE in 1D with staggered grid done\"\n",
    "    \n",
    "    \n",
    "    @info typeof(indices)\n",
    "    @info indices\n",
    "    #create_gif_1dswe(cell_centers::Vector{T}, y::Matrix{T},  filename::String, img_path::String, time_steps::Integer, m::Integer, fps::Integer)\n",
    "    create_gif_1dswe(cell_centers, h_c,\n",
    "        filename = filename_gif_swe1d,\n",
    "        img_path = img_path,\n",
    "        time_steps = time_steps,\n",
    "        m = sampling_freq,\n",
    "        fps = fps)\n",
    "    \n",
    "    create_plots_1dswe(cell_centers, u_a, indices,\n",
    "        filename = \"velocity_$(filename_unstaggered)\",\n",
    "        img_path = img_path,\n",
    "        quantity = \"Velocity\",\n",
    "        ylabel = \"u(x,t)\")\n",
    "    \n",
    "    create_plots_1dswe(cell_centers, h_a, indices,\n",
    "        filename = \"height_$(filename_unstaggered)\",\n",
    "        img_path = img_path,\n",
    "        quantity = \"Height\",\n",
    "        ylabel = \"h(x,t)\")\n",
    "    \n",
    "    create_plots_1dswe(cell_centers, u_c, indices,\n",
    "        filename = \"velocity_$(filename_staggered)\",\n",
    "        img_path = img_path,\n",
    "        quantity = \"Velocity\",\n",
    "        ylabel = \"u(x,t)\")\n",
    "    \n",
    "    create_plots_1dswe(cell_centers, h_c, indices,\n",
    "        filename = \"height_$(filename_staggered)\",\n",
    "        img_path = img_path,\n",
    "        quantity = \"Height\",\n",
    "        ylabel = \"h(x,t)\")\n",
    "    \n",
    "    @info \"$(now()) - Saved plots for 1D SWE\"\n",
    "\n",
    "end\n",
    "\n",
    "#simulate_swe1d(\"./config_swe.toml\")\n",
    "\n"
   ]
  },
  {
   "cell_type": "code",
   "execution_count": 12,
   "id": "8383f21a-dd6f-4268-908b-1050c42b2ce5",
   "metadata": {},
   "outputs": [
    {
     "name": "stderr",
     "output_type": "stream",
     "text": [
      "\u001b[36m\u001b[1m[ \u001b[22m\u001b[39m\u001b[36m\u001b[1mInfo: \u001b[22m\u001b[39m2025-08-14T09:39:03.228 - Start computation of SWE in 1D\n",
      "\u001b[36m\u001b[1m[ \u001b[22m\u001b[39m\u001b[36m\u001b[1mInfo: \u001b[22m\u001b[39m2025-08-14T09:39:03.729 - Computation of SWE in 1D with unstaggered grid done\n",
      "\u001b[36m\u001b[1m[ \u001b[22m\u001b[39m\u001b[36m\u001b[1mInfo: \u001b[22m\u001b[39m2025-08-14T09:39:04.151 - Computation of SWE in 1D with staggered grid done\n",
      "\u001b[36m\u001b[1m[ \u001b[22m\u001b[39m\u001b[36m\u001b[1mInfo: \u001b[22m\u001b[39mVector{Int64}\n",
      "\u001b[36m\u001b[1m[ \u001b[22m\u001b[39m\u001b[36m\u001b[1mInfo: \u001b[22m\u001b[39m[1, 60, 120]\n",
      "\u001b[36m\u001b[1m[ \u001b[22m\u001b[39m\u001b[36m\u001b[1mInfo: \u001b[22m\u001b[39mSaved animation to /home/niclas/uni_leipzig/07_Veranstaltungen_SoSe25/Meterologie/PraktikumsBericht/src/swe_1d.gif\n",
      "\u001b[36m\u001b[1m[ \u001b[22m\u001b[39m\u001b[36m\u001b[1mInfo: \u001b[22m\u001b[39m2025-08-14T09:39:06.137 - Saved animation of 1D Shallow Water Equation to swe_1d.gif\n",
      "\u001b[36m\u001b[1m[ \u001b[22m\u001b[39m\u001b[36m\u001b[1mInfo: \u001b[22m\u001b[39m2025-08-14T09:39:06.403 - Saved plots for 1D SWE\n",
      "\u001b[36m\u001b[1m[ \u001b[22m\u001b[39m\u001b[36m\u001b[1mInfo: \u001b[22m\u001b[39m2025-08-14T09:39:06.770 - Start Simulation of Shallow Water Equation in 2D\n",
      "\u001b[36m\u001b[1m[ \u001b[22m\u001b[39m\u001b[36m\u001b[1mInfo: \u001b[22m\u001b[39m2025-08-14T09:39:09.476 - Computation of SWE with Coriolis with f = 0.0 done\n",
      "\u001b[36m\u001b[1m[ \u001b[22m\u001b[39m\u001b[36m\u001b[1mInfo: \u001b[22m\u001b[39m2025-08-14T09:39:10.933 - Computation of SWE with Coriolis with f = 0.0001 done\n",
      "\u001b[36m\u001b[1m[ \u001b[22m\u001b[39m\u001b[36m\u001b[1mInfo: \u001b[22m\u001b[39m2025-08-14T09:39:10.933 - Start creating Plots\n",
      "\u001b[36m\u001b[1m[ \u001b[22m\u001b[39m\u001b[36m\u001b[1mInfo: \u001b[22m\u001b[39mSaved animation to /home/niclas/uni_leipzig/07_Veranstaltungen_SoSe25/Meterologie/PraktikumsBericht/src/swe2d_coriolis.gif\n",
      "\u001b[36m\u001b[1m[ \u001b[22m\u001b[39m\u001b[36m\u001b[1mInfo: \u001b[22m\u001b[39m2025-08-14T09:39:15.878 - Plots for the 2D SWE created and these can be found in ./\n"
     ]
    }
   ],
   "source": [
    "import TOML\n",
    "using Dates\n",
    "\n",
    "include(\"shallowwater.jl\")\n",
    "\n",
    "function simulate_swe2d(;config_path::String, img_path::String)\n",
    "    \n",
    "    # declare constants\n",
    "    h0(x,y) = (45 * dx <= x <= 55 * dx &&  45 * dy <= y <= 55 * dy ) ? 1 : 0   # initial function for the height   \n",
    "    filename_gif_swe1d = \"swe_1d.gif\"\n",
    "    filename_gif_swe2d = \"swe_2d.gif\"\n",
    "    filename_staggered = \"swe1d_staggered_grid\"\n",
    "    filename_unstaggered = \"swe1d_unstaggered_grid\"\n",
    "    filename_no_coriolis = \"swe2d_no_coriolis\"\n",
    "    filename_coriolis = \"swe2d_coriolis\"\n",
    "    sampling_freq = 20\n",
    "    fps = 15\n",
    "    \n",
    "    # load configuration\n",
    "    config = TOML.parsefile(config_path)\n",
    "    config_swe2d = config[\"swe2d\"]\n",
    "    \n",
    "    dt = config_swe2d[\"dt\"]\n",
    "    dx = config_swe2d[\"dx\"]\n",
    "    dy = config_swe2d[\"dy\"]\n",
    "    Nx = config_swe2d[\"Nx\"]\n",
    "    Ny = config_swe2d[\"Ny\"]\n",
    "    gamma = config_swe2d[\"gamma\"]\n",
    "    time_steps = config_swe2d[\"time_steps\"]\n",
    "    indices = config_swe2d[\"indices_plotting\"]\n",
    "    coriolis_1 = config_swe2d[\"coriolis_1\"]  # no coriolis\n",
    "    coriolis_2 = config_swe2d[\"coriolis_2\"]  # coriolis f = 1e-4\n",
    "    \n",
    "    # force consistency for indices for plotting\n",
    "    indices = [i for i in indices if i <= time_steps && i >= 1]\n",
    "    \n",
    "    # computation\n",
    "    @info \"$(now()) - Start Simulation of Shallow Water Equation in 2D\"\n",
    "    u_no_coriolis, v_no_coriolis, h_no_coriolis = swe_arakawa(Nx, Ny, dx, dy, dt, time_steps, h0, coriolis_1, gamma)\n",
    "    @info \"$(now()) - Computation of SWE with Coriolis with f = $(coriolis_1) done\"\n",
    "    u_coriolis, v_coriolis, h_coriolis = swe_arakawa(Nx, Ny, dx, dy,  dt, time_steps, h0, coriolis_2, gamma)\n",
    "    @info \"$(now()) - Computation of SWE with Coriolis with f = $(coriolis_2) done\"\n",
    "    \n",
    "    @info \"$(now()) - Start creating Plots\"\n",
    "    create_quiver_gif(u_coriolis, v_coriolis, h_coriolis;\n",
    "                       dx=dx, dy=dx,\n",
    "                       filename=\"swe2d_coriolis.gif\",\n",
    "                       img_path=img_path)\n",
    "    \n",
    "    plot_height_heatmap(h_coriolis, indices, filename_coriolis, img_path, dx, dy)\n",
    "    plot_height_heatmap(h_no_coriolis, indices, filename_no_coriolis, img_path, dx, dy)\n",
    "    @info \"$(now()) - Plots for the 2D SWE created and these can be found in $(img_path)\"\n",
    "end\n",
    "simulate_swe1d(config_path=\"./config_swe.toml\", img_path=\"./\")\n",
    "simulate_swe2d(config_path=\"./config_swe.toml\", img_path=\"./\")"
   ]
  }
 ],
 "metadata": {
  "kernelspec": {
   "display_name": "Julia 1.11.1",
   "language": "julia",
   "name": "julia-1.11"
  },
  "language_info": {
   "file_extension": ".jl",
   "mimetype": "application/julia",
   "name": "julia",
   "version": "1.11.1"
  }
 },
 "nbformat": 4,
 "nbformat_minor": 5
}
