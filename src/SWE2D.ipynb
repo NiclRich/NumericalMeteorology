{
 "cells": [
  {
   "cell_type": "markdown",
   "id": "2b3c593c-402c-47c6-81be-fa6f9261265d",
   "metadata": {},
   "source": [
    "# Shallow Water Equations in 2D with Arakawa C grid"
   ]
  },
  {
   "cell_type": "code",
   "execution_count": 16,
   "id": "e119b0eb-2d34-43e8-9f8b-011978b278ac",
   "metadata": {},
   "outputs": [
    {
     "data": {
      "text/plain": [
       "swe_arakawa (generic function with 4 methods)"
      ]
     },
     "execution_count": 16,
     "metadata": {},
     "output_type": "execute_result"
    }
   ],
   "source": [
    "function swe_arakawa(Nx::Integer, Ny::Integer, dx::T, dy::T, dt::T, time_steps::Integer, h0::Function, f::T, gamma::T=T(0.1), g::T=T(9.81), H::T=T(4000.0)) where {T<:AbstractFloat}\n",
    "    u = zeros(Nx, Ny, time_steps)\n",
    "    v = zeros(Nx, Ny, time_steps)\n",
    "    h = zeros(Nx, Ny, time_steps)\n",
    "\n",
    "    x = collect(range(start=T(0.0), step=dx, length=Nx))\n",
    "    y = collect(range(start=T(0.0), step=dy, length=Ny))\n",
    "\n",
    "    i = collect(1:Nx)\n",
    "    j = collect(1:Ny)\n",
    "    ip1 = circshift(i, -1)\n",
    "    im1 = circshift(i, 1)\n",
    "    jp1 = circshift(j, -1)\n",
    "    jm1 = circshift(j, 1)\n",
    "\n",
    "    # apply initial conditions for the height\n",
    "    h[i, j, 1] = @. h0(x, y')\n",
    "\n",
    "    k = 1 # euler step\n",
    "    # compute rhs for the method of lines\n",
    "    dudt = -g / dx * (h[ip1, j, k] - h[i, j, k]) + 0.25 * f * (v[i, j, k] + v[ip1, j, k] + v[ip1, jm1, k] + v[i, jm1, k])\n",
    "    dvdt = -g / dy * (h[i, jp1, k] - h[i, j, k]) + 0.25 * f * (u[i, j, k] + u[i, jp1, k] + u[im1, jp1, k] + u[im1, j, k])\n",
    "    dhdt = - H * ((u[i, j, k] - u[im1, j, k]) / dx + (v[i, j, k] - v[i, jm1, k]) / dy)\n",
    "\n",
    "    # perform euler step for time integration\n",
    "    u[i, j, k+1] = u[i, j, k] + dt * dudt\n",
    "    v[i, j, k+1] = v[i, j, k] + dt * dvdt\n",
    "    h[i, j, k+1] = h[i, j, k] + dt * dhdt\n",
    "\n",
    "    # leap frog\n",
    "    for k = 2:time_steps-1\n",
    "        dudt = -g / dx * (h[ip1, j, k] - h[i, j, k]) + 0.25 * f * (v[i, j, k] + v[ip1, j, k] + v[ip1, jm1, k] + v[i, jm1, k])\n",
    "        dvdt = -g / dy * (h[i, jp1, k] - h[i, j, k]) + 0.25 * f * (u[i, j, k] + u[i, jp1, k] + u[im1, jp1, k] + u[im1, j, k])\n",
    "        dhdt = - H * ((u[i, j, k] - u[im1, j, k]) / dx + (v[i, j, k] - v[i, jm1, k]) / dy)\n",
    "\n",
    "        u[i, j, k+1] = u[i, j, k-1] + 2 * dt * dudt\n",
    "        v[i, j, k+1] = v[i, j, k-1] + 2 * dt * dvdt\n",
    "        h[i, j, k+1] = h[i, j, k-1] + 2 * dt * dhdt\n",
    "\n",
    "        u[i, j, k] = u[i, j, k] + gamma * (u[i, j, k-1] - 2 * u[i, j, k] + u[i, j, k+1])\n",
    "        v[i, j, k] = v[i, j, k] + gamma * (v[i, j, k-1] - 2 * v[i, j, k] + v[i, j, k+1])\n",
    "        h[i, j, k] = h[i, j, k] + gamma * (h[i, j, k-1] - 2 * h[i, j, k] + h[i, j, k+1])\n",
    "    end\n",
    "\n",
    "    return u, v, h\n",
    "end"
   ]
  },
  {
   "cell_type": "code",
   "execution_count": 29,
   "id": "6e9b6151-8852-45fc-97aa-31b2b5f54961",
   "metadata": {},
   "outputs": [
    {
     "data": {
      "text/plain": [
       "([0.0 0.0 … 0.0 0.0; 0.0 0.0 … 0.0 0.0; … ; 0.0 0.0 … 0.0 0.0; 0.0 0.0 … 0.0 0.0;;; 0.0 0.0 … 0.0 0.0; 0.0 0.0 … 0.0 0.0; … ; 0.0 0.0 … 0.0 0.0; 0.0 0.0 … 0.0 0.0;;; 0.0 0.0 … 0.0 0.0; 0.0 0.0 … 0.0 0.0; … ; 0.0 0.0 … 0.0 0.0; 0.0 0.0 … 0.0 0.0;;; … ;;; -3.2886760689159785e-182 -2.337059629354147e-179 … -2.337059629354147e-179 -3.2886760689159785e-182; -2.2882009640949663e-179 -1.607343892391935e-176 … -1.607343892391935e-176 -2.2882009640949663e-179; … ; 3.2886760689159785e-182 2.337059629354147e-179 … 2.337059629354147e-179 3.2886760689159785e-182; 0.0 0.0 … 0.0 0.0;;; -3.818156932184964e-182 -2.708726369066679e-179 … -2.708726369066679e-179 -3.818156932184964e-182; -2.6521036819914266e-179 -1.859807869776692e-176 … -1.859807869776692e-176 -2.6521036819914266e-179; … ; 3.818156932184964e-182 2.708726369066679e-179 … 2.708726369066679e-179 3.818156932184964e-182; 0.0 0.0 … 0.0 0.0;;; -4.421608024088539e-182 -3.1316887514930045e-179 … -3.1316887514930045e-179 -4.421608024088539e-182; -3.0662313260237517e-179 -2.1466907810381686e-176 … -2.1466907810381686e-176 -3.0662313260237517e-179; … ; 4.421608024088539e-182 3.1316887514930045e-179 … 3.1316887514930045e-179 4.421608024088539e-182; 0.0 0.0 … 0.0 0.0], [0.0 0.0 … 0.0 0.0; 0.0 0.0 … 0.0 0.0; … ; 0.0 0.0 … 0.0 0.0; 0.0 0.0 … 0.0 0.0;;; 0.0 0.0 … 0.0 0.0; 0.0 0.0 … 0.0 0.0; … ; 0.0 0.0 … 0.0 0.0; 0.0 0.0 … 0.0 0.0;;; 0.0 0.0 … 0.0 0.0; 0.0 0.0 … 0.0 0.0; … ; 0.0 0.0 … 0.0 0.0; 0.0 0.0 … 0.0 0.0;;; … ;;; -3.2886760689159785e-182 -2.2882009640949663e-179 … 3.2886760689159785e-182 0.0; -2.337059629354147e-179 -1.607343892391935e-176 … 2.337059629354147e-179 0.0; … ; -2.337059629354147e-179 -1.607343892391935e-176 … 2.337059629354147e-179 0.0; -3.2886760689159785e-182 -2.2882009640949663e-179 … 3.2886760689159785e-182 0.0;;; -3.818156932184964e-182 -2.6521036819914266e-179 … 3.818156932184964e-182 0.0; -2.708726369066679e-179 -1.859807869776692e-176 … 2.708726369066679e-179 0.0; … ; -2.708726369066679e-179 -1.859807869776692e-176 … 2.708726369066679e-179 0.0; -3.818156932184964e-182 -2.6521036819914266e-179 … 3.818156932184964e-182 0.0;;; -4.421608024088539e-182 -3.0662313260237517e-179 … 4.421608024088539e-182 0.0; -3.1316887514930045e-179 -2.1466907810381686e-176 … 3.1316887514930045e-179 0.0; … ; -3.1316887514930045e-179 -2.1466907810381686e-176 … 3.1316887514930045e-179 0.0; -4.421608024088539e-182 -3.0662313260237517e-179 … 4.421608024088539e-182 0.0], [0.0 0.0 … 0.0 0.0; 0.0 0.0 … 0.0 0.0; … ; 0.0 0.0 … 0.0 0.0; 0.0 0.0 … 0.0 0.0;;; 0.0 0.0 … 0.0 0.0; 0.0 0.0 … 0.0 0.0; … ; 0.0 0.0 … 0.0 0.0; 0.0 0.0 … 0.0 0.0;;; 0.0 0.0 … 0.0 0.0; 0.0 0.0 … 0.0 0.0; … ; 0.0 0.0 … 0.0 0.0; 0.0 0.0 … 0.0 0.0;;; … ;;; 3.515121396440023e-182 2.498411185690252e-179 … 2.498411185690252e-179 3.515121396440023e-182; 2.498411185690252e-179 1.75527570588872e-176 … 1.75527570588872e-176 2.498411185690252e-179; … ; 2.498411185690252e-179 1.75527570588872e-176 … 1.75527570588872e-176 2.498411185690252e-179; 3.515121396440023e-182 2.498411185690252e-179 … 2.498411185690252e-179 3.515121396440023e-182;;; 4.0845318874577346e-182 2.898200300796769e-179 … 2.898200300796769e-179 4.0845318874577346e-182; 2.898200300796769e-179 2.0326968369729767e-176 … 2.0326968369729767e-176 2.898200300796769e-179; … ; 2.898200300796769e-179 2.0326968369729767e-176 … 2.0326968369729767e-176 2.898200300796769e-179; 4.0845318874577346e-182 2.898200300796769e-179 … 2.898200300796769e-179 4.0845318874577346e-182;;; 4.733972805593828e-182 3.3535041567779784e-179 … 3.3535041567779784e-179 4.733972805593828e-182; 3.3535041567779784e-179 2.3481727262498e-176 … 2.3481727262498e-176 3.3535041567779784e-179; … ; 3.3535041567779784e-179 2.3481727262498e-176 … 2.3481727262498e-176 3.3535041567779784e-179; 4.733972805593828e-182 3.3535041567779784e-179 … 3.3535041567779784e-179 4.733972805593828e-182])"
      ]
     },
     "execution_count": 29,
     "metadata": {},
     "output_type": "execute_result"
    }
   ],
   "source": [
    "Nx = 101\n",
    "Ny = 101\n",
    "dx = 5e5\n",
    "dy = 5e5\n",
    "dt = 10.0\n",
    "h0(x,y) = (45 * dx <= x <= 55 * dx &&  45 * dy <= y <= 55 * dy ) ? 1 : 0\n",
    "f = 0.0\n",
    "time_steps = 1200\n",
    "\n",
    "u, v, h = swe_arakawa(Nx, Ny, dx, dy,dt, time_steps, h0, f)"
   ]
  },
  {
   "cell_type": "code",
   "execution_count": 18,
   "id": "c9a662e6-fe0f-49dd-a46b-3b6e0a6e6635",
   "metadata": {},
   "outputs": [
    {
     "data": {
      "text/plain": [
       "11×11×120 Array{Float64, 3}:\n",
       "[:, :, 1] =\n",
       " 0.0  0.0  0.0  0.0  0.0  0.0  0.0  0.0  0.0  0.0  0.0\n",
       " 0.0  0.0  0.0  0.0  0.0  0.0  0.0  0.0  0.0  0.0  0.0\n",
       " 0.0  0.0  0.0  0.0  0.0  0.0  0.0  0.0  0.0  0.0  0.0\n",
       " 0.0  0.0  0.0  0.0  0.0  0.0  0.0  0.0  0.0  0.0  0.0\n",
       " 0.0  0.0  0.0  0.0  0.0  0.0  0.0  0.0  0.0  0.0  0.0\n",
       " 0.0  0.0  0.0  0.0  0.0  1.0  0.0  0.0  0.0  0.0  0.0\n",
       " 0.0  0.0  0.0  0.0  0.0  0.0  0.0  0.0  0.0  0.0  0.0\n",
       " 0.0  0.0  0.0  0.0  0.0  0.0  0.0  0.0  0.0  0.0  0.0\n",
       " 0.0  0.0  0.0  0.0  0.0  0.0  0.0  0.0  0.0  0.0  0.0\n",
       " 0.0  0.0  0.0  0.0  0.0  0.0  0.0  0.0  0.0  0.0  0.0\n",
       " 0.0  0.0  0.0  0.0  0.0  0.0  0.0  0.0  0.0  0.0  0.0\n",
       "\n",
       "[:, :, 2] =\n",
       " 0.0  0.0  0.0  0.0  0.0       0.0       0.0       0.0  0.0  0.0  0.0\n",
       " 0.0  0.0  0.0  0.0  0.0       0.0       0.0       0.0  0.0  0.0  0.0\n",
       " 0.0  0.0  0.0  0.0  0.0       0.0       0.0       0.0  0.0  0.0  0.0\n",
       " 0.0  0.0  0.0  0.0  0.0       0.0       0.0       0.0  0.0  0.0  0.0\n",
       " 0.0  0.0  0.0  0.0  0.0       7.848e-5  0.0       0.0  0.0  0.0  0.0\n",
       " 0.0  0.0  0.0  0.0  7.848e-5  0.999686  7.848e-5  0.0  0.0  0.0  0.0\n",
       " 0.0  0.0  0.0  0.0  0.0       7.848e-5  0.0       0.0  0.0  0.0  0.0\n",
       " 0.0  0.0  0.0  0.0  0.0       0.0       0.0       0.0  0.0  0.0  0.0\n",
       " 0.0  0.0  0.0  0.0  0.0       0.0       0.0       0.0  0.0  0.0  0.0\n",
       " 0.0  0.0  0.0  0.0  0.0       0.0       0.0       0.0  0.0  0.0  0.0\n",
       " 0.0  0.0  0.0  0.0  0.0       0.0       0.0       0.0  0.0  0.0  0.0\n",
       "\n",
       "[:, :, 3] =\n",
       " 0.0  0.0  0.0  0.0  0.0          …  0.0          0.0  0.0  0.0  0.0\n",
       " 0.0  0.0  0.0  0.0  0.0             0.0          0.0  0.0  0.0  0.0\n",
       " 0.0  0.0  0.0  0.0  0.0             0.0          0.0  0.0  0.0  0.0\n",
       " 0.0  0.0  0.0  0.0  0.0             0.0          0.0  0.0  0.0  0.0\n",
       " 0.0  0.0  0.0  0.0  0.0             0.0          0.0  0.0  0.0  0.0\n",
       " 0.0  0.0  0.0  0.0  0.000800496  …  0.000800496  0.0  0.0  0.0  0.0\n",
       " 0.0  0.0  0.0  0.0  0.0             0.0          0.0  0.0  0.0  0.0\n",
       " 0.0  0.0  0.0  0.0  0.0             0.0          0.0  0.0  0.0  0.0\n",
       " 0.0  0.0  0.0  0.0  0.0             0.0          0.0  0.0  0.0  0.0\n",
       " 0.0  0.0  0.0  0.0  0.0             0.0          0.0  0.0  0.0  0.0\n",
       " 0.0  0.0  0.0  0.0  0.0          …  0.0          0.0  0.0  0.0  0.0\n",
       "\n",
       ";;; … \n",
       "\n",
       "[:, :, 118] =\n",
       " 1.37442e-9   4.48638e-8   1.05471e-6   …  4.48638e-8   1.37442e-9\n",
       " 4.48638e-8   1.28139e-6   2.59047e-5      1.28139e-6   4.48638e-8\n",
       " 1.05471e-6   2.59047e-5   0.000439406     2.59047e-5   1.05471e-6\n",
       " 1.60822e-5   0.000330079  0.00449929      0.000330079  1.60822e-5\n",
       " 0.000138061  0.00226791   0.0230597       0.00226791   0.000138061\n",
       " 0.000490708  0.00606254   0.0402716    …  0.00606254   0.000490708\n",
       " 0.000138061  0.00226791   0.0230597       0.00226791   0.000138061\n",
       " 1.60822e-5   0.000330079  0.00449929      0.000330079  1.60822e-5\n",
       " 1.05471e-6   2.59047e-5   0.000439406     2.59047e-5   1.05471e-6\n",
       " 4.48638e-8   1.28139e-6   2.59047e-5      1.28139e-6   4.48638e-8\n",
       " 1.37442e-9   4.48638e-8   1.05471e-6   …  4.48638e-8   1.37442e-9\n",
       "\n",
       "[:, :, 119] =\n",
       " 1.61652e-9   5.17926e-8   1.19542e-6   …  5.17926e-8   1.61652e-9\n",
       " 5.17926e-8   1.45157e-6   2.87989e-5      1.45157e-6   5.17926e-8\n",
       " 1.19542e-6   2.87989e-5   0.000479125     2.87989e-5   1.19542e-6\n",
       " 1.78909e-5   0.000359939  0.00480698      0.000359939  1.78909e-5\n",
       " 0.000150697  0.0024238    0.024093        0.0024238    0.000150697\n",
       " 0.00052558   0.0063478    0.0410522    …  0.0063478    0.00052558\n",
       " 0.000150697  0.0024238    0.024093        0.0024238    0.000150697\n",
       " 1.78909e-5   0.000359939  0.00480698      0.000359939  1.78909e-5\n",
       " 1.19542e-6   2.87989e-5   0.000479125     2.87989e-5   1.19542e-6\n",
       " 5.17926e-8   1.45157e-6   2.87989e-5      1.45157e-6   5.17926e-8\n",
       " 1.61652e-9   5.17926e-8   1.19542e-6   …  5.17926e-8   1.61652e-9\n",
       "\n",
       "[:, :, 120] =\n",
       " 1.89335e-9  5.95861e-8   1.35112e-6   …  5.95861e-8   1.89335e-9\n",
       " 5.95861e-8  1.63978e-6   3.19458e-5      1.63978e-6   5.95861e-8\n",
       " 1.35112e-6  3.19458e-5   0.000521547     3.19458e-5   1.35112e-6\n",
       " 1.98591e-5  0.000391832  0.00512914      0.000391832  1.98591e-5\n",
       " 0.00016421  0.0025871    0.0251484       0.0025871    0.00016421\n",
       " 0.00056222  0.00664041   0.0418161    …  0.00664041   0.00056222\n",
       " 0.00016421  0.0025871    0.0251484       0.0025871    0.00016421\n",
       " 1.98591e-5  0.000391832  0.00512914      0.000391832  1.98591e-5\n",
       " 1.35112e-6  3.19458e-5   0.000521547     3.19458e-5   1.35112e-6\n",
       " 5.95861e-8  1.63978e-6   3.19458e-5      1.63978e-6   5.95861e-8\n",
       " 1.89335e-9  5.95861e-8   1.35112e-6   …  5.95861e-8   1.89335e-9"
      ]
     },
     "execution_count": 18,
     "metadata": {},
     "output_type": "execute_result"
    }
   ],
   "source": [
    "h"
   ]
  },
  {
   "cell_type": "code",
   "execution_count": 23,
   "id": "c0af77a0-3531-4a93-b1ce-7100a96ed730",
   "metadata": {},
   "outputs": [],
   "source": [
    "using Plots"
   ]
  },
  {
   "cell_type": "code",
   "execution_count": 31,
   "id": "34faf20c-c39b-43f6-ac01-1655216a9268",
   "metadata": {},
   "outputs": [
    {
     "data": {
      "text/plain": [
       "create_quiver_gif"
      ]
     },
     "execution_count": 31,
     "metadata": {},
     "output_type": "execute_result"
    }
   ],
   "source": [
    "\"\"\"\n",
    "create_quiver_gif(u, v, h; k=8, m=10, dx=1.0, dy=1.0, filename=\"anim.gif\",\n",
    "                   cmap=:viridis, quiver_scale=1.0, fps=10)\n",
    "\n",
    "Create a GIF visualizing the vector field (u,v) as a quiver and the scalar field h as a colormapped\n",
    "background. The arrays u,v,h are expected to be (Nx, Ny, Nt).\n",
    "\n",
    "Arguments:\n",
    "- u, v, h : Float arrays of shape (Nx, Ny, Nt)\n",
    "Keyword arguments:\n",
    "- k         : integer ≤ 9, choose k x k arrows (default 8). Must be >= 1.\n",
    "- m         : integer ≥ 1, output a frame every m time steps (default 10)\n",
    "- dx, dy    : physical spacing in x and y (default 1.0)\n",
    "- filename  : output GIF filename (default \"anim.gif\")\n",
    "- cmap      : colormap symbol for the background (default :viridis)\n",
    "- quiver_scale : scalar multiplied into arrow components (default 1.0)\n",
    "- fps       : frames per second for the GIF (default 10)\n",
    "\n",
    "Returns nothing; writes filename to disk.\n",
    "\"\"\"\n",
    "function create_quiver_gif(u::AbstractArray, v::AbstractArray, h::AbstractArray;\n",
    "                           k::Integer=8, m::Integer=10,\n",
    "                           dx::Real=5e5, dy::Real=5e5,\n",
    "                           filename::String=\"anim.gif\",\n",
    "                           cmap=:viridis, quiver_scale::Real=1.0,\n",
    "                           fps::Integer=10)\n",
    "\n",
    "    # basic validation\n",
    "    Nx, Ny, Nt = size(u)\n",
    "    @assert size(v) == (Nx, Ny, Nt) \"v must have same shape as u\"\n",
    "    @assert size(h) == (Nx, Ny, Nt) \"h must have same shape as u\"\n",
    "    @assert 1 ≤ k ≤ min(Nx, Ny) \"k must be between 1 and min(Nx,Ny)\"\n",
    "    @assert k < 10 \"please choose k < 10 as requested\"\n",
    "    @assert m ≥ 1 \"m must be ≥ 1\"\n",
    "\n",
    "    # physical coordinates\n",
    "    x = collect(0:dx:(Nx-1)*dx)\n",
    "    y = collect(0:dy:(Ny-1)*dy)\n",
    "\n",
    "    # choose evenly spaced sample indices (k per axis)\n",
    "    ix = round.(Int, range(1, stop=Nx, length=k))\n",
    "    jy = round.(Int, range(1, stop=Ny, length=k))\n",
    "\n",
    "    # sample coordinates (match the order of vec(...) for a k×k matrix)\n",
    "    xs = x[ix]\n",
    "    ys = y[jy]\n",
    "    # vec(u[ix, jy]) stacks columns -> for j in 1:k, for i in 1:k\n",
    "    xq = repeat(xs, outer=k)   # x varies fastest within each column set\n",
    "    yq = repeat(ys, inner=k)   # each y repeated k times for its column\n",
    "\n",
    "    # global color limits so color is consistent across frames\n",
    "    hmin = minimum(h)\n",
    "    hmax = maximum(h)\n",
    "\n",
    "    anim = @animate for t in 1:m:Nt\n",
    "        # background: heatmap of h at time t\n",
    "        # note: transpose h[:,:,t] so axes align intuitively (x horizontal, y vertical)\n",
    "        plt = heatmap(x, y, h[:, :, t]',\n",
    "                      color = cmap,\n",
    "                      clims = (hmin, hmax),\n",
    "                      aspect_ratio = :equal,\n",
    "                      xlabel = \"x\", ylabel = \"y\",\n",
    "                      title = \"t = $(t)\",\n",
    "                      framestyle = :box,\n",
    "                      colorbar = true)\n",
    "\n",
    "        # subsampled vector components (must be flattened in the same column-major order)\n",
    "        u_sub = vec(u[ix, jy, t]) .* quiver_scale\n",
    "        v_sub = vec(v[ix, jy, t]) .* quiver_scale\n",
    "\n",
    "        # overlay quiver (arrow color chosen to be black for contrast)\n",
    "        quiver!(plt, xq, yq, quiver = (u_sub, v_sub),\n",
    "                linewidth = 1.2, arrow = :arrow, linecolor = :black, legend = false)\n",
    "\n",
    "        plt\n",
    "    end\n",
    "\n",
    "    # write gif\n",
    "    gif(anim, filename; fps = fps)\n",
    "    return nothing\n",
    "end"
   ]
  },
  {
   "cell_type": "code",
   "execution_count": 32,
   "id": "88de2803-e53a-4c51-8f3f-df140741af03",
   "metadata": {},
   "outputs": [
    {
     "name": "stdout",
     "output_type": "stream",
     "text": [
      "Wrote GIF to: anim.gif\n"
     ]
    },
    {
     "name": "stderr",
     "output_type": "stream",
     "text": [
      "\u001b[36m\u001b[1m[ \u001b[22m\u001b[39m\u001b[36m\u001b[1mInfo: \u001b[22m\u001b[39mSaved animation to /home/niclas/uni_leipzig/07_Veranstaltungen_SoSe25/Meterologie/PraktikumsBericht/src/anim.gif\n"
     ]
    }
   ],
   "source": [
    "create_quiver_gif(u, v, h;k=8, m=10,dx=5e5, dy=5e5, filename=\"anim.gif\", cmap=:RdBu , quiver_scale=2.0,fps=10)"
   ]
  },
  {
   "cell_type": "code",
   "execution_count": 36,
   "id": "adc164f5-1594-4edf-a22e-693481d5d6c8",
   "metadata": {},
   "outputs": [],
   "source": [
    "function plot_height_heatmap(height, times, filename,dx::Real=5e5, dy::Real=5e5, cmap::Symbol=:RdBu)\n",
    "    hmin = minimum(h)\n",
    "    hmax = maximum(h)\n",
    "\n",
    "    Nx, Ny, Nt = size(u)\n",
    "    @assert size(v) == (Nx, Ny, Nt) \"v must have same shape as u\"\n",
    "    @assert size(h) == (Nx, Ny, Nt) \"h must have same shape as u\"\n",
    "\n",
    "    # physical coordinates\n",
    "    x = collect(0:dx:(Nx-1)*dx)\n",
    "    y = collect(0:dy:(Ny-1)*dy)\n",
    "    \n",
    "    for k in times\n",
    "        plt = heatmap(x, y, h[:, :, k]',\n",
    "                          color = cmap,\n",
    "                          clims = (hmin, hmax),\n",
    "                          aspect_ratio = :equal,\n",
    "                          xlabel = \"x\", ylabel = \"y\",\n",
    "                          title = \"h in 2D SWE at t = $(k)\",\n",
    "                          framestyle = :box,\n",
    "                          colorbar = true)\n",
    "        filename_adjusted = filename * \"_$(k).png\"\n",
    "        savefig(plt, filename_adjusted)\n",
    "    end\n",
    "end\n",
    "\n",
    "plot_height_heatmap(h, [1, 100, 200, 300], \"heatmap\")"
   ]
  }
 ],
 "metadata": {
  "kernelspec": {
   "display_name": "Julia 1.11.1",
   "language": "julia",
   "name": "julia-1.11"
  },
  "language_info": {
   "file_extension": ".jl",
   "mimetype": "application/julia",
   "name": "julia",
   "version": "1.11.1"
  }
 },
 "nbformat": 4,
 "nbformat_minor": 5
}
